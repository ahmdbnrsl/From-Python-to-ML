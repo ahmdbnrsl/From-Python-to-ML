{
 "cells": [
  {
   "cell_type": "code",
   "execution_count": 1,
   "id": "c9a98b10",
   "metadata": {},
   "outputs": [
    {
     "name": "stdout",
     "output_type": "stream",
     "text": [
      "Requirement already satisfied: numpy in c:\\users\\win 10\\appdata\\local\\programs\\python\\python313\\lib\\site-packages (2.2.4)\n",
      "Note: you may need to restart the kernel to use updated packages.\n"
     ]
    },
    {
     "name": "stderr",
     "output_type": "stream",
     "text": [
      "\n",
      "[notice] A new release of pip is available: 24.3.1 -> 25.0.1\n",
      "[notice] To update, run: python.exe -m pip install --upgrade pip\n"
     ]
    }
   ],
   "source": [
    "pip install numpy"
   ]
  },
  {
   "cell_type": "code",
   "execution_count": 2,
   "id": "e3492b87",
   "metadata": {},
   "outputs": [
    {
     "name": "stdout",
     "output_type": "stream",
     "text": [
      "2.2.4\n"
     ]
    }
   ],
   "source": [
    "import numpy as np\n",
    "\n",
    "print(np.__version__)"
   ]
  },
  {
   "cell_type": "markdown",
   "id": "ce18d179",
   "metadata": {},
   "source": [
    "by arkhademy (Arini)"
   ]
  },
  {
   "cell_type": "markdown",
   "id": "d3862e13",
   "metadata": {},
   "source": []
  },
  {
   "cell_type": "code",
   "execution_count": 5,
   "id": "c20be061",
   "metadata": {},
   "outputs": [
    {
     "name": "stdout",
     "output_type": "stream",
     "text": [
      "4868\n"
     ]
    }
   ],
   "source": [
    "# magic tricks\n",
    "bilangan_random = (48 * 25 + 17) * 4\n",
    "print(bilangan_random)"
   ]
  },
  {
   "cell_type": "code",
   "execution_count": 10,
   "id": "cf44c209",
   "metadata": {},
   "outputs": [
    {
     "name": "stdout",
     "output_type": "stream",
     "text": [
      "3768\n",
      "3796\n",
      "3800\n",
      "3768\n"
     ]
    }
   ],
   "source": [
    "x = 37\n",
    "hasil = (x * 25 + 17) * 4 # nilai dari 17 bisa diganti selama 0 & | 1 - 24 |\n",
    "print(hasil)\n",
    "hasil = ((25 * x) + 24) * 4\n",
    "print(hasil)\n",
    "hasil = ((25 * x) * 4) + (25 * 4) # dua digit pertama menjadi x + 1\n",
    "print(hasil)\n",
    "hasil = (100 * x) + 68 # bilangan 2 digit yang dikalikan 100 maka akan menghasilkan bilangan 4 digit, dengan 2 nol, lalu kemudian ditambah 0 kali 4 atau 68, maka 2 digit belakang akan selalu 68 dan dua digit depan adalah x\n",
    "print(hasil)"
   ]
  },
  {
   "cell_type": "markdown",
   "id": "8e500e6c",
   "metadata": {},
   "source": [
    "1. Apa itu kalkulus?\n",
    "2. Infinitesimal & Infinite\n",
    "3. Makna Limit\n",
    "4. Kesimpulan"
   ]
  },
  {
   "cell_type": "markdown",
   "id": "9946a4f6",
   "metadata": {},
   "source": [
    "Apa itu kalkulus?\n",
    "\n",
    "Matematika adalah kebutuhan.\n",
    "Cabang matematika\n",
    "\n",
    "(Primer)\n",
    "1. Geometri (bagun datar, bentuk, ukuran)\n",
    "2. Aritmetika (Bilangan dan operasinya)\n",
    "3. Alajabar (nilai yang belum diketahui dan simbol) (x)\n",
    "\n",
    "4. (Sekunder) ---> Kalkulus (Menjelaskan sesuatu yang berubah)\n",
    "5. Statistika & Probabilitas (Untuk data dan prediksi)\n",
    "6. Teori Bilangan\n",
    "7. Teori Kategori\n",
    "\n"
   ]
  },
  {
   "cell_type": "markdown",
   "id": "72ae30ec",
   "metadata": {},
   "source": [
    "Kemunculan Kalkulus untuk meprediksi yang non determenistik atau yang tidak konstan, bentuk yang tidak beraturan\n",
    "\n",
    "1. Diferensial (pemecahan menjadi bagian bagian kecil untuk melihat perubahan pada bagian tersebut) (x^2 = 2x^2-1) = x^n = n*x^n-1\n",
    "2. Integral (pemecahan menjadi bagian kecil lalu di jumlahkan untuk mengetahui hasilnya) x^n ---> (x^n+1)/n + 1\n",
    "\n",
    "\n",
    "kalkulus ----> mempelajari perubahan dan penjumlahan hal hal kecil di kehidupan \n",
    "\n",
    "\"Ketika kamu ingin cepat move on maka pelajarilah kalkulus agar kondisi hati cepat berubah.\""
   ]
  },
  {
   "cell_type": "markdown",
   "id": "6b43d4d1",
   "metadata": {},
   "source": [
    "Infinite & Infinitesimal\n",
    "Infinitesimal ----> kuantitas yang sangat kecil ----> mendekati nol dan nggak bisa diukur (dx, dy) (Ukuran)\n",
    "\n",
    "Infinite ----> tanpa batas (Jumlah)"
   ]
  },
  {
   "cell_type": "markdown",
   "id": "4432e261",
   "metadata": {},
   "source": [
    "LIMIT\n",
    "\n",
    "perilaku suatu fungsi saat mendekati titik tertentu meskipun fungsi tersebut tidak harus mencapai titik tersebut.\n",
    "\n",
    "Penghubung diferensial dan Integral\n",
    "atau jembatan untuk memahami infinite dan Infinitesimal\n",
    "\n",
    "ukuran nyaris nol, jumlah nyaris tak terhingga\n",
    "\n",
    "Predict sesuatuu yang belum kita tahu.\n",
    "\n",
    "selama kita tahu sebelum dan sesudahnya"
   ]
  },
  {
   "cell_type": "markdown",
   "id": "17605029",
   "metadata": {},
   "source": [
    "misal f(x) = x^2 - 1 / x - 1\n",
    "\n",
    "jika x = 1 maka nilainya menjadi tak terdefinisi\n",
    "\n",
    "maka dari itu kita pakai limit\n",
    "\n",
    "lim     f(x) = 2 (ini artinya kita cari sesuatu atau angka yang mendekati 1)\n",
    "x -> 1\n",
    "\n",
    "\n",
    "kita tidak boleh saling coret di fungsi karena nilai nya belum tentu yang bisa berakibat pada output dari fungsi tersebut, namun jika dilimit boleh karena nilai nya sudah tentu.\n",
    "\n",
    "\n",
    "\n",
    "dalam grafik fungsi x adalah domain dan y adalah hasil output dari fungsi itu sendiri"
   ]
  },
  {
   "cell_type": "markdown",
   "id": "ec129920",
   "metadata": {},
   "source": []
  }
 ],
 "metadata": {
  "kernelspec": {
   "display_name": "Python 3",
   "language": "python",
   "name": "python3"
  },
  "language_info": {
   "codemirror_mode": {
    "name": "ipython",
    "version": 3
   },
   "file_extension": ".py",
   "mimetype": "text/x-python",
   "name": "python",
   "nbconvert_exporter": "python",
   "pygments_lexer": "ipython3",
   "version": "3.13.1"
  }
 },
 "nbformat": 4,
 "nbformat_minor": 5
}
