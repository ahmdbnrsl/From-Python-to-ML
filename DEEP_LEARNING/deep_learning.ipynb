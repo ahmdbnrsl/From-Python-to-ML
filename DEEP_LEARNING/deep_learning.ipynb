{
  "nbformat": 4,
  "nbformat_minor": 0,
  "metadata": {
    "colab": {
      "provenance": [],
      "authorship_tag": "ABX9TyOeWBrbmRKF8ru22ZSngwQx",
      "include_colab_link": true
    },
    "kernelspec": {
      "name": "python3",
      "display_name": "Python 3"
    },
    "language_info": {
      "name": "python"
    }
  },
  "cells": [
    {
      "cell_type": "markdown",
      "metadata": {
        "id": "view-in-github",
        "colab_type": "text"
      },
      "source": [
        "<a href=\"https://colab.research.google.com/github/ahmdbnrsl/From-Python-to-ML/blob/main/DEEP_LEARNING/deep_learning.ipynb\" target=\"_parent\"><img src=\"https://colab.research.google.com/assets/colab-badge.svg\" alt=\"Open In Colab\"/></a>"
      ]
    },
    {
      "cell_type": "code",
      "execution_count": null,
      "metadata": {
        "colab": {
          "base_uri": "https://localhost:8080/"
        },
        "id": "y68I1MQuE6oA",
        "outputId": "50438d68-5ba0-4dd6-916d-b84a426154f4"
      },
      "outputs": [
        {
          "output_type": "stream",
          "name": "stdout",
          "text": [
            "Requirement already satisfied: numpy in /usr/local/lib/python3.11/dist-packages (2.0.2)\n"
          ]
        }
      ],
      "source": [
        "pip install numpy"
      ]
    },
    {
      "cell_type": "code",
      "source": [
        "import numpy as np\n",
        "\n",
        "# Input x berdimensi 3\n",
        "x = np.array([1.0, -0.5, 2.0])\n",
        "\n",
        "# Layer 1: 4 neuron hidden\n",
        "W0 = np.random.randn(4, 3)\n",
        "b0 = np.random.randn(4)\n",
        "print(W0)\n",
        "print(b0)\n",
        "\n",
        "# Aktivasi\n",
        "def relu(z):\n",
        "    result = np.maximum(0, z)\n",
        "    print(result)\n",
        "    return result\n",
        "\n",
        "# Layer 2: output neuron\n",
        "W1 = np.random.randn(1, 4)\n",
        "b1 = np.random.randn(1)\n",
        "\n",
        "# Komputasi: Φ(x) = T1(σ(T0(x)))\n",
        "z0 = W0 @ x + b0\n",
        "print(x)          # T0(x)\n",
        "a0 = relu(z0)             # σ\n",
        "z1 = W1 @ a0 + b1         # T1\n",
        "Phi_x = z1\n",
        "\n",
        "print(\"Output Φ(x):\", Phi_x)"
      ],
      "metadata": {
        "colab": {
          "base_uri": "https://localhost:8080/"
        },
        "id": "kNvoDspRFKd5",
        "outputId": "983a3d52-0514-4cea-9f49-26ecdc0117b0"
      },
      "execution_count": null,
      "outputs": [
        {
          "output_type": "stream",
          "name": "stdout",
          "text": [
            "[[-0.14226861  0.03218374  0.15325728]\n",
            " [ 1.11140483 -1.13766403 -1.22051775]\n",
            " [-0.52564745  0.74273405 -1.053749  ]\n",
            " [ 3.81941241  1.12807535  0.782141  ]]\n",
            "[ 0.96196606 -0.81696822 -0.11541851  0.65314665]\n",
            "[ 1.  -0.5  2. ]\n",
            "[1.11012013 0.         0.         5.47280338]\n",
            "Output Φ(x): [-3.75636183]\n"
          ]
        }
      ]
    },
    {
      "cell_type": "code",
      "source": [
        "import numpy as np\n",
        "\n",
        "# Fungsi aktivasi ReLU\n",
        "def relu(x):\n",
        "    return np.maximum(0, x)\n",
        "\n",
        "# Input x ∈ R^6\n",
        "x = np.random.randn(6)\n",
        "\n",
        "# Bobot dan bias untuk layer pertama (T0)\n",
        "W0 = np.random.randn(3, 6)  # 3 neuron, input 6\n",
        "b0 = np.random.randn(3)\n",
        "\n",
        "# Bobot dan bias untuk layer kedua (T1)\n",
        "W1 = np.random.randn(2, 3)  # 2 output, 3 hidden neuron\n",
        "b1 = np.random.randn(2)\n",
        "\n",
        "# Forward pass\n",
        "z0 = W0 @ x + b0        # Linear: T0(x)\n",
        "h = relu(z0)            # Aktivasi: σ\n",
        "z1 = W1 @ h + b1        # Linear: T1(h)\n",
        "phi_x = z1              # Output akhir: Φ(x)\n",
        "\n",
        "# Tampilkan hasil\n",
        "print(\"Input x:\", x)\n",
        "print(\"Hidden activations (ReLU):\", h)\n",
        "print(\"Output Φ(x):\", phi_x)"
      ],
      "metadata": {
        "colab": {
          "base_uri": "https://localhost:8080/"
        },
        "id": "4hEhW7K_Jfc9",
        "outputId": "bb0f4644-209a-4ba7-c3d3-5c55155db40d"
      },
      "execution_count": 6,
      "outputs": [
        {
          "output_type": "stream",
          "name": "stdout",
          "text": [
            "Input x: [ 0.79848492  1.71487191  0.1216531   1.42518709 -0.1444965   1.00680548]\n",
            "Hidden activations (ReLU): [0.82989754 0.         1.76143369]\n",
            "Output Φ(x): [1.14432309 1.83876147]\n"
          ]
        }
      ]
    }
  ]
}