{
  "nbformat": 4,
  "nbformat_minor": 0,
  "metadata": {
    "colab": {
      "provenance": [],
      "authorship_tag": "ABX9TyNduvXJSj1J/ncrmgZbGoj3",
      "include_colab_link": true
    },
    "kernelspec": {
      "name": "python3",
      "display_name": "Python 3"
    },
    "language_info": {
      "name": "python"
    }
  },
  "cells": [
    {
      "cell_type": "markdown",
      "metadata": {
        "id": "view-in-github",
        "colab_type": "text"
      },
      "source": [
        "<a href=\"https://colab.research.google.com/github/ahmdbnrsl/From-Python-to-ML/blob/main/DEEP_LEARNING/deep_learning.ipynb\" target=\"_parent\"><img src=\"https://colab.research.google.com/assets/colab-badge.svg\" alt=\"Open In Colab\"/></a>"
      ]
    },
    {
      "cell_type": "code",
      "execution_count": null,
      "metadata": {
        "colab": {
          "base_uri": "https://localhost:8080/"
        },
        "id": "y68I1MQuE6oA",
        "outputId": "50438d68-5ba0-4dd6-916d-b84a426154f4"
      },
      "outputs": [
        {
          "output_type": "stream",
          "name": "stdout",
          "text": [
            "Requirement already satisfied: numpy in /usr/local/lib/python3.11/dist-packages (2.0.2)\n"
          ]
        }
      ],
      "source": [
        "pip install numpy"
      ]
    },
    {
      "cell_type": "code",
      "source": [
        "import numpy as np\n",
        "\n",
        "# Input x berdimensi 3\n",
        "x = np.array([1.0, -0.5, 2.0])\n",
        "\n",
        "# Layer 1: 4 neuron hidden\n",
        "W0 = np.random.randn(4, 3)\n",
        "b0 = np.random.randn(4)\n",
        "print(W0)\n",
        "print(b0)\n",
        "\n",
        "# Aktivasi\n",
        "def relu(z):\n",
        "    result = np.maximum(0, z)\n",
        "    print(result)\n",
        "    return result\n",
        "\n",
        "# Layer 2: output neuron\n",
        "W1 = np.random.randn(1, 4)\n",
        "b1 = np.random.randn(1)\n",
        "\n",
        "# Komputasi: Φ(x) = T1(σ(T0(x)))\n",
        "z0 = W0 @ x + b0\n",
        "print(x)          # T0(x)\n",
        "a0 = relu(z0)             # σ\n",
        "z1 = W1 @ a0 + b1         # T1\n",
        "Phi_x = z1\n",
        "\n",
        "print(\"Output Φ(x):\", Phi_x)"
      ],
      "metadata": {
        "colab": {
          "base_uri": "https://localhost:8080/"
        },
        "id": "kNvoDspRFKd5",
        "outputId": "983a3d52-0514-4cea-9f49-26ecdc0117b0"
      },
      "execution_count": null,
      "outputs": [
        {
          "output_type": "stream",
          "name": "stdout",
          "text": [
            "[[-0.14226861  0.03218374  0.15325728]\n",
            " [ 1.11140483 -1.13766403 -1.22051775]\n",
            " [-0.52564745  0.74273405 -1.053749  ]\n",
            " [ 3.81941241  1.12807535  0.782141  ]]\n",
            "[ 0.96196606 -0.81696822 -0.11541851  0.65314665]\n",
            "[ 1.  -0.5  2. ]\n",
            "[1.11012013 0.         0.         5.47280338]\n",
            "Output Φ(x): [-3.75636183]\n"
          ]
        }
      ]
    },
    {
      "cell_type": "code",
      "source": [
        "import numpy as np\n",
        "\n",
        "# Fungsi aktivasi ReLU\n",
        "def relu(x):\n",
        "    return np.maximum(0, x)\n",
        "\n",
        "# Input x ∈ R^6\n",
        "x = np.random.randn(6)\n",
        "\n",
        "# Bobot dan bias untuk layer pertama (T0)\n",
        "W0 = np.random.randn(3, 6)  # 3 neuron, input 6\n",
        "b0 = np.random.randn(3)\n",
        "\n",
        "# Bobot dan bias untuk layer kedua (T1)\n",
        "W1 = np.random.randn(2, 3)  # 2 output, 3 hidden neuron\n",
        "b1 = np.random.randn(2)\n",
        "\n",
        "# Forward pass\n",
        "z0 = W0 @ x + b0        # Linear: T0(x)\n",
        "h = relu(z0)            # Aktivasi: σ\n",
        "z1 = W1 @ h + b1        # Linear: T1(h)\n",
        "phi_x = z1              # Output akhir: Φ(x)\n",
        "\n",
        "# Tampilkan hasil\n",
        "print(\"Input x:\", x)\n",
        "print(\"Hidden activations (ReLU):\", h)\n",
        "print(\"Output Φ(x):\", phi_x)"
      ],
      "metadata": {
        "id": "4hEhW7K_Jfc9",
        "outputId": "bab9552b-1e41-4556-85fd-efbb26bdab39",
        "colab": {
          "base_uri": "https://localhost:8080/"
        }
      },
      "execution_count": null,
      "outputs": [
        {
          "output_type": "stream",
          "name": "stdout",
          "text": [
            "Input x: [-0.28963866  0.7943598  -1.3579998  -0.01547925 -1.19580445 -0.02618481]\n",
            "Hidden activations (ReLU): [0.        0.2745708 0.       ]\n",
            "Output Φ(x): [0.65000194 0.3546503 ]\n"
          ]
        }
      ]
    },
    {
      "cell_type": "code",
      "source": [
        "import numpy as np\n",
        "\n",
        "def relu(x):\n",
        "    return np.maximum(0, x)\n",
        "\n",
        "def relu_derivative(x):\n",
        "    return (x > 0).astype(float)\n",
        "\n",
        "def mse(y_true, y_pred):\n",
        "    return np.mean((y_true - y_pred)**2)\n",
        "\n",
        "def mse_derivative(y_true, y_pred):\n",
        "    return 2 * (y_pred - y_true) / y_true.shape[0]\n",
        "\n",
        "np.random.seed(0)\n",
        "m, d, k = 100, 6, 2\n",
        "X = np.random.randn(m, d)\n",
        "Y = np.random.randn(m, k)\n",
        "\n",
        "hidden_size = 3\n",
        "W0 = np.random.randn(d, hidden_size) * 0.1\n",
        "b0 = np.zeros((1, hidden_size))\n",
        "W1 = np.random.randn(hidden_size, k) * 0.1\n",
        "b1 = np.zeros((1, k))\n",
        "\n",
        "lr = 0.01\n",
        "epochs = 500\n",
        "\n",
        "for epoch in range(epochs):\n",
        "    Z1 = X @ W0 + b0\n",
        "    A1 = relu(Z1)\n",
        "    Z2 = A1 @ W1 + b1\n",
        "    Y_pred = Z2\n",
        "\n",
        "    loss = mse(Y, Y_pred)\n",
        "\n",
        "    dZ2 = mse_derivative(Y, Y_pred)\n",
        "    dW1 = A1.T @ dZ2\n",
        "    db1 = np.sum(dZ2, axis=0, keepdims=True)\n",
        "    dA1 = dZ2 @ W1.T\n",
        "    dZ1 = dA1 * relu_derivative(Z1)\n",
        "    dW0 = X.T @ dZ1\n",
        "    db0 = np.sum(dZ1, axis=0, keepdims=True)\n",
        "\n",
        "    W1 -= lr * dW1\n",
        "    b1 -= lr * db1\n",
        "    W0 -= lr * dW0\n",
        "    b0 -= lr * db0\n",
        "\n",
        "    if epoch % 50 == 0:\n",
        "        print(f\"Epoch {epoch}, Loss: {loss:.4f}\")"
      ],
      "metadata": {
        "colab": {
          "base_uri": "https://localhost:8080/"
        },
        "id": "PkSchK42mrum",
        "outputId": "02701f51-e6df-4f96-a24f-890d00d44ef1"
      },
      "execution_count": null,
      "outputs": [
        {
          "output_type": "stream",
          "name": "stdout",
          "text": [
            "Epoch 0, Loss: 0.9603\n",
            "Epoch 50, Loss: 0.9454\n",
            "Epoch 100, Loss: 0.9422\n",
            "Epoch 150, Loss: 0.9400\n",
            "Epoch 200, Loss: 0.9379\n",
            "Epoch 250, Loss: 0.9354\n",
            "Epoch 300, Loss: 0.9324\n",
            "Epoch 350, Loss: 0.9287\n",
            "Epoch 400, Loss: 0.9245\n",
            "Epoch 450, Loss: 0.9197\n"
          ]
        }
      ]
    },
    {
      "cell_type": "code",
      "source": [
        "import numpy as np\n",
        "\n",
        "def relu(x):\n",
        "    return np.maximum(0, x)\n",
        "\n",
        "def mse(y_true, y_pred):\n",
        "    return np.mean((y_true - y_pred) ** 2)\n",
        "\n",
        "np.random.seed(0)\n",
        "m, d, k = 100, 6, 2\n",
        "X = np.random.randn(m, d)\n",
        "Y = np.random.randn(m, k)\n",
        "\n",
        "hidden_size = 4\n",
        "W0 = np.random.randn(d, hidden_size) * 0.1\n",
        "b0 = np.zeros((1, hidden_size))\n",
        "W1 = np.random.randn(hidden_size, k) * 0.1\n",
        "b1 = np.zeros((1, k))\n",
        "\n",
        "Z1 = X @ W0 + b0\n",
        "A1 = relu(Z1)\n",
        "Z2 = A1 @ W1 + b1\n",
        "Y_pred = Z2\n",
        "\n",
        "empirical_risk = mse(Y, Y_pred)\n",
        "print(\"Empirical Risk (MSE):\", empirical_risk)"
      ],
      "metadata": {
        "id": "_OLzB0gRrIHE",
        "outputId": "6583c06d-b82b-4aec-88ac-916095b04208",
        "colab": {
          "base_uri": "https://localhost:8080/"
        }
      },
      "execution_count": null,
      "outputs": [
        {
          "output_type": "stream",
          "name": "stdout",
          "text": [
            "Empirical Risk (MSE): 0.9702897369235239\n"
          ]
        }
      ]
    },
    {
      "cell_type": "code",
      "source": [
        "pip install matplotlib"
      ],
      "metadata": {
        "colab": {
          "base_uri": "https://localhost:8080/"
        },
        "id": "WhstXqbxvOHz",
        "outputId": "0267418c-27db-477d-845c-11ea057bee25"
      },
      "execution_count": 3,
      "outputs": [
        {
          "output_type": "stream",
          "name": "stdout",
          "text": [
            "Requirement already satisfied: matplotlib in /usr/local/lib/python3.11/dist-packages (3.10.0)\n",
            "Requirement already satisfied: contourpy>=1.0.1 in /usr/local/lib/python3.11/dist-packages (from matplotlib) (1.3.2)\n",
            "Requirement already satisfied: cycler>=0.10 in /usr/local/lib/python3.11/dist-packages (from matplotlib) (0.12.1)\n",
            "Requirement already satisfied: fonttools>=4.22.0 in /usr/local/lib/python3.11/dist-packages (from matplotlib) (4.58.2)\n",
            "Requirement already satisfied: kiwisolver>=1.3.1 in /usr/local/lib/python3.11/dist-packages (from matplotlib) (1.4.8)\n",
            "Requirement already satisfied: numpy>=1.23 in /usr/local/lib/python3.11/dist-packages (from matplotlib) (2.0.2)\n",
            "Requirement already satisfied: packaging>=20.0 in /usr/local/lib/python3.11/dist-packages (from matplotlib) (24.2)\n",
            "Requirement already satisfied: pillow>=8 in /usr/local/lib/python3.11/dist-packages (from matplotlib) (11.2.1)\n",
            "Requirement already satisfied: pyparsing>=2.3.1 in /usr/local/lib/python3.11/dist-packages (from matplotlib) (3.2.3)\n",
            "Requirement already satisfied: python-dateutil>=2.7 in /usr/local/lib/python3.11/dist-packages (from matplotlib) (2.9.0.post0)\n",
            "Requirement already satisfied: six>=1.5 in /usr/local/lib/python3.11/dist-packages (from python-dateutil>=2.7->matplotlib) (1.17.0)\n"
          ]
        }
      ]
    },
    {
      "cell_type": "code",
      "source": [
        "import numpy as np\n",
        "import matplotlib.pyplot as plt\n",
        "\n",
        "def relu(x): return np.maximum(0, x)\n",
        "def relu_derivative(x): return (x > 0).astype(float)\n",
        "def mse(y_true, y_pred): return np.mean((y_true - y_pred) ** 2)\n",
        "def mse_derivative(y_true, y_pred): return 2 * (y_pred - y_true) / y_true.shape[0]\n",
        "\n",
        "np.random.seed(42)\n",
        "m, d, k = 200, 5, 1\n",
        "X = np.random.randn(m, d)\n",
        "Y = np.random.randn(m, k)\n",
        "\n",
        "hidden_size = 8\n",
        "W0 = np.random.randn(d, hidden_size) * 0.1\n",
        "b0 = np.zeros((1, hidden_size))\n",
        "W1 = np.random.randn(hidden_size, k) * 0.1\n",
        "b1 = np.zeros((1, k))\n",
        "\n",
        "lr = 0.001\n",
        "epochs = 200_000\n",
        "losses = []\n",
        "\n",
        "for epoch in range(epochs):\n",
        "    Z1 = X @ W0 + b0\n",
        "    A1 = relu(Z1)\n",
        "    Z2 = A1 @ W1 + b1\n",
        "    Y_pred = Z2\n",
        "\n",
        "    loss = mse(Y, Y_pred)\n",
        "\n",
        "    if epoch % 1000 == 0:\n",
        "        losses.append(loss)\n",
        "    if epoch % 10000 == 0:\n",
        "        print(f\"Epoch {epoch}, Loss: {loss:.6f}\")\n",
        "\n",
        "    dZ2 = mse_derivative(Y, Y_pred)\n",
        "    dW1 = A1.T @ dZ2\n",
        "    db1 = np.sum(dZ2, axis=0, keepdims=True)\n",
        "    dA1 = dZ2 @ W1.T\n",
        "    dZ1 = dA1 * relu_derivative(Z1)\n",
        "    dW0 = X.T @ dZ1\n",
        "    db0 = np.sum(dZ1, axis=0, keepdims=True)\n",
        "\n",
        "    W1 -= lr * dW1\n",
        "    b1 -= lr * db1\n",
        "    W0 -= lr * dW0\n",
        "    b0 -= lr * db0\n",
        "\n",
        "print(f\"Final Loss: {loss:.6f}\")\n",
        "\n",
        "plt.plot(np.arange(0, epochs, 1000), losses)\n",
        "plt.title(\"Loss vs Epochs\")\n",
        "plt.xlabel(\"Epoch\")\n",
        "plt.ylabel(\"MSE\")\n",
        "plt.grid(True)\n",
        "plt.show()"
      ],
      "metadata": {
        "colab": {
          "base_uri": "https://localhost:8080/",
          "height": 604
        },
        "id": "XsTMs9pAvUYg",
        "outputId": "64c9cb3a-6a76-45b6-86bb-7a81a753daf3"
      },
      "execution_count": 10,
      "outputs": [
        {
          "output_type": "stream",
          "name": "stdout",
          "text": [
            "Epoch 0, Loss: 1.097570\n",
            "Epoch 10000, Loss: 1.020859\n",
            "Epoch 20000, Loss: 0.976332\n",
            "Epoch 30000, Loss: 0.944551\n",
            "Epoch 40000, Loss: 0.922134\n",
            "Epoch 50000, Loss: 0.912118\n",
            "Epoch 60000, Loss: 0.907771\n",
            "Epoch 70000, Loss: 0.899645\n",
            "Epoch 80000, Loss: 0.882391\n",
            "Epoch 90000, Loss: 0.859881\n",
            "Epoch 100000, Loss: 0.842868\n",
            "Epoch 110000, Loss: 0.824328\n",
            "Epoch 120000, Loss: 0.802438\n",
            "Epoch 130000, Loss: 0.787056\n",
            "Epoch 140000, Loss: 0.782059\n",
            "Epoch 150000, Loss: 0.780268\n",
            "Epoch 160000, Loss: 0.779589\n",
            "Epoch 170000, Loss: 0.776241\n",
            "Epoch 180000, Loss: 0.756564\n",
            "Epoch 190000, Loss: 0.743294\n",
            "Final Loss: 0.740411\n"
          ]
        },
        {
          "output_type": "display_data",
          "data": {
            "text/plain": [
              "<Figure size 640x480 with 1 Axes>"
            ],
            "image/png": "[encoded data removed]"
          },
          "metadata": {}
        }
      ]
    }
  ]
}