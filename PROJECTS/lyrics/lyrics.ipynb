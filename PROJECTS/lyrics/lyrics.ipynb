{
 "cells": [
  {
   "cell_type": "code",
   "execution_count": 19,
   "id": "210dd87a",
   "metadata": {},
   "outputs": [
    {
     "name": "stdout",
     "output_type": "stream",
     "text": [
      "Requirement already satisfied: playsound==1.2.2 in c:\\users\\win 10\\appdata\\local\\programs\\python\\python313\\lib\\site-packages (1.2.2)\n",
      "Note: you may need to restart the kernel to use updated packages.\n"
     ]
    },
    {
     "name": "stderr",
     "output_type": "stream",
     "text": [
      "\n",
      "[notice] A new release of pip is available: 24.3.1 -> 25.1.1\n",
      "[notice] To update, run: python.exe -m pip install --upgrade pip\n"
     ]
    }
   ],
   "source": [
    "pip install playsound==1.2.2"
   ]
  },
  {
   "cell_type": "code",
   "execution_count": 28,
   "id": "586f4ca5",
   "metadata": {},
   "outputs": [
    {
     "name": "stdout",
     "output_type": "stream",
     "text": [
      "oooooohhhhhhhh oohhhhhhhh\n",
      "You think it's easy\n",
      "You think I don't want to run to you, yeah\n",
      "But there are mountains\n",
      "And there are doors that we can't walk through\n",
      "I know you wonder why\n",
      "Because we're able to be just you and me\n"
     ]
    }
   ],
   "source": [
    "import sys\n",
    "import time\n",
    "import threading\n",
    "from playsound import playsound\n",
    "\n",
    "def play_sound():\n",
    "    playsound('./lyrics.mp3')\n",
    "\n",
    "def show_lyrics():\n",
    "    lyrics = [\n",
    "        {'text': 'oooooohhhhhhhh oohhhhhhhh\\n', 'delay': 7.6},\n",
    "        {'text': 'You think it\\'s easy\\n', 'delay': 4.5},\n",
    "        {'text': 'You think I don\\'t want to run to you, yeah\\n', 'delay': 4},\n",
    "        {'text': 'But there are mountains\\n', 'delay': 3},\n",
    "        {'text': 'And there are doors that we can\\'t walk through\\n', 'delay': 4},\n",
    "        {'text': 'I know you wonder why\\n', 'delay': 2},\n",
    "        {'text': 'Because we\\'re able to be just you and me\\n', 'delay': 4},\n",
    "    ]\n",
    "\n",
    "\n",
    "    for lyric in lyrics:\n",
    "        for char in lyric['text']:\n",
    "            print(char, end='', flush=True)\n",
    "            time.sleep(lyric['delay'] / len(lyric['text']))\n",
    "            \n",
    "\n",
    "audio_thread = threading.Thread(target=play_sound)\n",
    "audio_thread.start()\n",
    "\n",
    "show_lyrics()\n",
    "    "
   ]
  }
 ],
 "metadata": {
  "kernelspec": {
   "display_name": "Python 3",
   "language": "python",
   "name": "python3"
  },
  "language_info": {
   "codemirror_mode": {
    "name": "ipython",
    "version": 3
   },
   "file_extension": ".py",
   "mimetype": "text/x-python",
   "name": "python",
   "nbconvert_exporter": "python",
   "pygments_lexer": "ipython3",
   "version": "3.13.1"
  }
 },
 "nbformat": 4,
 "nbformat_minor": 5
}
