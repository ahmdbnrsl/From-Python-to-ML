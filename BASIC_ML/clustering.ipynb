{
 "cells": [
  {
   "cell_type": "code",
   "execution_count": 1,
   "id": "4e7e5326",
   "metadata": {},
   "outputs": [
    {
     "name": "stdout",
     "output_type": "stream",
     "text": [
      "Requirement already satisfied: numpy in c:\\users\\win 10\\appdata\\local\\programs\\python\\python313\\lib\\site-packages (2.2.4)\n",
      "Note: you may need to restart the kernel to use updated packages.\n"
     ]
    },
    {
     "name": "stderr",
     "output_type": "stream",
     "text": [
      "\n",
      "[notice] A new release of pip is available: 24.3.1 -> 25.0.1\n",
      "[notice] To update, run: python.exe -m pip install --upgrade pip\n"
     ]
    }
   ],
   "source": [
    "pip install numpy"
   ]
  },
  {
   "cell_type": "code",
   "execution_count": 2,
   "id": "e0bc382b",
   "metadata": {},
   "outputs": [
    {
     "name": "stdout",
     "output_type": "stream",
     "text": [
      "[ 4 25 36 16  9 36  1  0  0  1]\n",
      "11.313708498984761\n",
      "[2 5 6 4 3 6 1 0 0 1]\n",
      "28\n"
     ]
    }
   ],
   "source": [
    "import numpy as np\n",
    "\n",
    "V1 = np.array([8, -2, 9, -7, -5, 0, 2, -9, -9, -3])\n",
    "V2 = np.array([10, -7, 3, -3, -2, -6, 1, -9, -9, -4])\n",
    "\n",
    "\n",
    "def euclidian_distance(V1, V2):\n",
    "    return np.sqrt(np.sum((V1 - V2) ** 2))\n",
    "\n",
    "\n",
    "print((V1 - V2) ** 2)\n",
    "print(euclidian_distance(V1, V2))\n",
    "\n",
    "\n",
    "def manhattan_distance(V1, V2):\n",
    "    return np.sum(np.abs(V1 - V2))\n",
    "\n",
    "\n",
    "print(np.abs(V1 - V2))\n",
    "print(manhattan_distance(V1, V2))"
   ]
  }
 ],
 "metadata": {
  "kernelspec": {
   "display_name": "Python 3",
   "language": "python",
   "name": "python3"
  },
  "language_info": {
   "codemirror_mode": {
    "name": "ipython",
    "version": 3
   },
   "file_extension": ".py",
   "mimetype": "text/x-python",
   "name": "python",
   "nbconvert_exporter": "python",
   "pygments_lexer": "ipython3",
   "version": "3.13.1"
  }
 },
 "nbformat": 4,
 "nbformat_minor": 5
}
