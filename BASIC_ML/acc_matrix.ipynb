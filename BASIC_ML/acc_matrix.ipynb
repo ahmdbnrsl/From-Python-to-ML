{
 "cells": [
  {
   "cell_type": "markdown",
   "id": "4402743f",
   "metadata": {},
   "source": [
    "akurasi = titik yang diprediksi benar (true positif, true negatif) / semua titik\n",
    "\n"
   ]
  },
  {
   "cell_type": "code",
   "execution_count": 5,
   "id": "73e40d1b",
   "metadata": {},
   "outputs": [
    {
     "name": "stdout",
     "output_type": "stream",
     "text": [
      "80.0\n"
     ]
    }
   ],
   "source": [
    "# misal\n",
    "\n",
    "true_positive = 100\n",
    "false_positive = 50\n",
    "true_negative = 700\n",
    "false_negative = 150\n",
    "total_dot = 1000\n",
    "\n",
    "accuration = ((true_negative + true_positive)/total_dot) * 100\n",
    "\n",
    "print(accuration)"
   ]
  },
  {
   "cell_type": "markdown",
   "id": "a89e1dac",
   "metadata": {},
   "source": [
    "Presision = data yang di prediksi positif (True positive) / True Positive + False Positive"
   ]
  },
  {
   "cell_type": "code",
   "execution_count": 6,
   "id": "a311ae17",
   "metadata": {},
   "outputs": [
    {
     "name": "stdout",
     "output_type": "stream",
     "text": [
      "66.66666666666666\n"
     ]
    }
   ],
   "source": [
    "precission = (true_positive / (true_positive + false_positive)) * 100\n",
    "\n",
    "print(precission)"
   ]
  },
  {
   "cell_type": "markdown",
   "id": "fbd6a2d7",
   "metadata": {},
   "source": [
    "Recall (Sensitivity)\n",
    "Dari data yang berlabel positif, berapa banyak yang diprediksi benar\n",
    "\n",
    "true positive / true positive + false negative"
   ]
  },
  {
   "cell_type": "code",
   "execution_count": 7,
   "id": "550673ec",
   "metadata": {},
   "outputs": [
    {
     "name": "stdout",
     "output_type": "stream",
     "text": [
      "40.0\n"
     ]
    }
   ],
   "source": [
    "recall = (true_positive / (true_positive + false_negative)) * 100\n",
    "\n",
    "print(recall)"
   ]
  },
  {
   "cell_type": "code",
   "execution_count": 8,
   "id": "5fbddd3e",
   "metadata": {},
   "outputs": [
    {
     "name": "stdout",
     "output_type": "stream",
     "text": [
      "53.33333333333333\n"
     ]
    }
   ],
   "source": [
    "avg = (precission + recall) / 2\n",
    "\n",
    "print(avg)"
   ]
  },
  {
   "cell_type": "markdown",
   "id": "010ef403",
   "metadata": {},
   "source": [
    "mean harmonik = 2xy / x + y (F1 Score)"
   ]
  },
  {
   "cell_type": "code",
   "execution_count": 9,
   "id": "fa28b02d",
   "metadata": {},
   "outputs": [
    {
     "name": "stdout",
     "output_type": "stream",
     "text": [
      "49.99999999999999\n"
     ]
    }
   ],
   "source": [
    "mean_harmonic = (2 * precission * recall) / (precission + recall)\n",
    "\n",
    "print(mean_harmonic)"
   ]
  },
  {
   "cell_type": "code",
   "execution_count": 10,
   "id": "81a59dd3",
   "metadata": {},
   "outputs": [
    {
     "name": "stdout",
     "output_type": "stream",
     "text": [
      "73.07692307692307 80.0 61.53846153846154 70.76923076923077 69.56521739130434\n"
     ]
    }
   ],
   "source": [
    "def calc(tp, fp, tn, fn, total_dot):\n",
    "    accuration = ((tp + tn)/total_dot) * 100\n",
    "    precission = (tp / (tp + fp)) * 100\n",
    "    recall = (tp / (tp + fn)) * 100\n",
    "    avg = (precission + recall) / 2\n",
    "    mean_harmonic = (2 * precission * recall) / (precission + recall)\n",
    "    return accuration, precission, recall, avg, mean_harmonic\n",
    "\n",
    "tp_samsung, fp_samsung, tn_samsung, fn_samsung, total_dot_samsung = 80, 20, 110, 50, 260\n",
    "accuration_samsung, precission_samsung, recall_samsung, avg_samsung, mean_harmonic_samsung = calc(tp_samsung, fp_samsung, tn_samsung, fn_samsung, total_dot_samsung)\n",
    "\n",
    "\n",
    "print(accuration_samsung, precission_samsung, recall_samsung, avg_samsung, mean_harmonic_samsung)"
   ]
  },
  {
   "cell_type": "code",
   "execution_count": 11,
   "id": "a6a278ab",
   "metadata": {},
   "outputs": [
    {
     "name": "stdout",
     "output_type": "stream",
     "text": [
      "69.23076923076923 33.33333333333333 60.0 46.666666666666664 42.857142857142854\n"
     ]
    }
   ],
   "source": [
    "tp_sony, fp_sony, tn_sony, fn_sony, total_dot_sony = 30, 60, 150, 20, 260\n",
    "accuration_sony, precission_sony, recall_sony, avg_sony, mean_harmonic_sony = calc(tp_sony, fp_sony, tn_sony, fn_sony, total_dot_sony)\n",
    "\n",
    "print(accuration_sony, precission_sony, recall_sony, avg_sony, mean_harmonic_sony)"
   ]
  },
  {
   "cell_type": "code",
   "execution_count": 12,
   "id": "772a0134",
   "metadata": {},
   "outputs": [
    {
     "name": "stdout",
     "output_type": "stream",
     "text": [
      "30.76923076923077 57.14285714285714 21.052631578947366 39.097744360902254 30.769230769230766\n"
     ]
    }
   ],
   "source": [
    "tp_apple, fp_apple, tn_apple, fn_apple, total_dot_apple = 40, 30, 40, 150, 260\n",
    "accuration_apple, precission_apple, recall_apple, avg_apple, mean_harmonic_apple = calc(tp_apple, fp_apple, tn_apple, fn_apple, total_dot_apple)\n",
    "\n",
    "print(accuration_apple, precission_apple, recall_apple, avg_apple, mean_harmonic_apple)"
   ]
  },
  {
   "cell_type": "code",
   "execution_count": 14,
   "id": "e2697b71",
   "metadata": {},
   "outputs": [
    {
     "name": "stdout",
     "output_type": "stream",
     "text": [
      "0.5682539682539683 0.47530364372469625 0.4773053033922599\n"
     ]
    }
   ],
   "source": [
    "# macro & wighted\n",
    "\n",
    "total_sample_apple = 80\n",
    "total_sample_samsung = 130\n",
    "total_sample_sony = 50\n",
    "\n",
    "avg_prec = (precission_apple + precission_samsung + precission_sony) / 3 /100\n",
    "\n",
    "avg_recall = (recall_apple + recall_samsung + recall_sony) / 3 /100\n",
    "\n",
    "avg_mean_harmonic = (mean_harmonic_apple + mean_harmonic_samsung + mean_harmonic_sony) / 3 / 100\n",
    "\n",
    "print(avg_prec, avg_recall, avg_mean_harmonic)"
   ]
  },
  {
   "cell_type": "code",
   "execution_count": 15,
   "id": "b10c96ab",
   "metadata": {},
   "outputs": [
    {
     "name": "stdout",
     "output_type": "stream",
     "text": [
      "63.992673992673986 48.78542510121458 52.49182255871219\n"
     ]
    }
   ],
   "source": [
    "# weighted mean\n",
    "\n",
    "# x = (p1 * n1 + p2 * n2 + p3 * n3) / (n1 + n2 + n3)\n",
    "\n",
    "total_sample = 260\n",
    "\n",
    "weight_prec = ((precission_apple * total_sample_apple) + (precission_samsung * total_sample_samsung) + (precission_sony * total_sample_sony)) / total_sample\n",
    "\n",
    "weight_recall = ((recall_apple * total_sample_apple) + (recall_samsung * total_sample_samsung) + (recall_sony * total_sample_sony)) / total_sample\n",
    "\n",
    "weight_mean_harmonic = ((mean_harmonic_apple * total_sample_apple) + (mean_harmonic_samsung * total_sample_samsung) + (mean_harmonic_sony * total_sample_sony)) / total_sample\n",
    "\n",
    "print(weight_prec, weight_recall, weight_mean_harmonic)\n"
   ]
  }
 ],
 "metadata": {
  "kernelspec": {
   "display_name": "Python 3",
   "language": "python",
   "name": "python3"
  },
  "language_info": {
   "codemirror_mode": {
    "name": "ipython",
    "version": 3
   },
   "file_extension": ".py",
   "mimetype": "text/x-python",
   "name": "python",
   "nbconvert_exporter": "python",
   "pygments_lexer": "ipython3",
   "version": "3.13.1"
  }
 },
 "nbformat": 4,
 "nbformat_minor": 5
}
