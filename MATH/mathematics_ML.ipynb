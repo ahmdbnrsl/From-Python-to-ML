{
  "nbformat": 4,
  "nbformat_minor": 0,
  "metadata": {
    "colab": {
      "provenance": [],
      "authorship_tag": "ABX9TyOcF0x6MinmzVwbsHXppUB0",
      "include_colab_link": true
    },
    "kernelspec": {
      "name": "python3",
      "display_name": "Python 3"
    },
    "language_info": {
      "name": "python"
    }
  },
  "cells": [
    {
      "cell_type": "markdown",
      "metadata": {
        "id": "view-in-github",
        "colab_type": "text"
      },
      "source": [
        "<a href=\"https://colab.research.google.com/github/ahmdbnrsl/From-Python-to-ML/blob/main/MATH/mathematics_ML.ipynb\" target=\"_parent\"><img src=\"https://colab.research.google.com/assets/colab-badge.svg\" alt=\"Open In Colab\"/></a>"
      ]
    },
    {
      "cell_type": "code",
      "execution_count": null,
      "metadata": {
        "colab": {
          "base_uri": "https://localhost:8080/"
        },
        "id": "HWLaWKOF8SX-",
        "outputId": "1a78baa4-bdae-4694-ef4e-c8a65f076b1c"
      },
      "outputs": [
        {
          "output_type": "stream",
          "name": "stdout",
          "text": [
            "Requirement already satisfied: numpy in /usr/local/lib/python3.11/dist-packages (2.0.2)\n"
          ]
        }
      ],
      "source": [
        "pip install numpy"
      ]
    },
    {
      "cell_type": "markdown",
      "source": [
        "Vector space (ruang vektor) adalah sebuah himpunan (kumpulan objek) yang:\n",
        "\n",
        "1. Anggotanya disebut vektor\n",
        "\n",
        "\n",
        "2. Memenuhi dua operasi utama:\n",
        "\n",
        "Penjumlahan vektor: menambahkan dua vektor menghasilkan vektor baru.\n",
        "\n",
        "Perkalian skalar: mengalikan vektor dengan bilangan (skalar) menghasilkan vektor baru juga.\n",
        "\n",
        "\n",
        "\n",
        "3. Tunduk pada 8 aturan (aksioma) tertentu (kita bahas nanti).\n",
        "\n",
        "\n",
        "\n",
        "Biasanya ruang vektor ini didefinisikan di atas field (seperti bilangan real ℝ atau bilangan kompleks ℂ), artinya semua skalarnya berasal dari field itu.\n",
        "\n",
        "Kalau ada dua vektor u = (u₁, u₂) dan v = (v₁, v₂), maka:\n",
        "\n",
        "Penjumlahan vektor:\n",
        "u + v = (u₁ + v₁, u₂ + v₂)\n",
        "\n",
        "Perkalian skalar dengan bilangan k:\n",
        "k * u = (k * u₁, k * u₂)\n",
        "\n",
        "8 Aksioma Ruang Vektor\n",
        "\n",
        "1. Asosiatif penjumlahan: (u + v) + w = u + (v + w)\n",
        "\n",
        "\n",
        "2. Komutatif penjumlahan: u + v = v + u\n",
        "\n",
        "\n",
        "3. Elemen nol: Ada vektor 0, sehingga u + 0 = u\n",
        "\n",
        "\n",
        "4. Elemen invers aditif: Untuk setiap u, ada -u, sehingga u + (-u) = 0\n",
        "\n",
        "\n",
        "5. Asosiatif perkalian skalar: a(bu) = (ab)u\n",
        "\n",
        "\n",
        "6. Identitas skalar: 1 * u = u\n",
        "\n",
        "\n",
        "7. Distributif terhadap penjumlahan vektor: a(u + v) = au + av\n",
        "\n",
        "\n",
        "8. Distributif terhadap penjumlahan skalar: (a + b)u = au + bu\n",
        "\n",
        "\n",
        "\n",
        "Kalau semua ini terpenuhi, maka himpunan itu adalah vector space."
      ],
      "metadata": {
        "id": "NQS21qXC8xGf"
      }
    },
    {
      "cell_type": "code",
      "source": [
        "import numpy as np\n",
        "\n",
        "def is_vector_space_check(vecs):\n",
        "    # Cek penjumlahan\n",
        "    u = vecs[0]\n",
        "    v = vecs[1]\n",
        "    sum_vec = u + v\n",
        "    print(f\"u + v = {sum_vec}\")\n",
        "\n",
        "    # Cek perkalian skalar\n",
        "    k = 3\n",
        "    scaled_vec = k * u\n",
        "    print(f\"{k} * u = {scaled_vec}\")\n",
        "\n",
        "vecs = [np.array([1, -1]), np.array([-2, 2])]  # x + y = 0\n",
        "vecs_1 = [np.array([2, 1]), np.array([4, 2])]  # x = 2y\n",
        "vecs_2 = [np.array([2, 4]), np.array([4, 6])]  # x + 2 = y\n",
        "\n",
        "is_vector_space_check(vecs)\n",
        "is_vector_space_check(vecs_2)"
      ],
      "metadata": {
        "colab": {
          "base_uri": "https://localhost:8080/"
        },
        "id": "62hDGWlT9WZ_",
        "outputId": "86bd3d68-cd03-4bc3-c212-ee17fce144c0"
      },
      "execution_count": null,
      "outputs": [
        {
          "output_type": "stream",
          "name": "stdout",
          "text": [
            "u + v = [-1  1]\n",
            "3 * u = [ 3 -3]\n",
            "u + v = [ 6 10]\n",
            "3 * u = [ 6 12]\n"
          ]
        }
      ]
    },
    {
      "cell_type": "code",
      "source": [
        "def is_vector_space_check(vecs):\n",
        "    u = vecs[0]\n",
        "    v = vecs[1]\n",
        "\n",
        "    sum_vec = u + v\n",
        "    scaled_vec = 3 * u\n",
        "\n",
        "    def is_in_V(vec):\n",
        "        return np.sum(vec) == 0\n",
        "\n",
        "    if is_in_V(sum_vec) and is_in_V(scaled_vec):\n",
        "        print(\"✅ Ini adalah vector space\")\n",
        "        return True\n",
        "    else:\n",
        "        print(\"❌ Ini bukan vector space\")\n",
        "        return False\n",
        "\n",
        "is_vector_space_check([np.array([5, 2, 1]), np.array([10, 4, 2])])"
      ],
      "metadata": {
        "colab": {
          "base_uri": "https://localhost:8080/"
        },
        "id": "qQmqQh9LCR6D",
        "outputId": "32d50f2d-541a-47d4-c9a6-355107e93430"
      },
      "execution_count": null,
      "outputs": [
        {
          "output_type": "stream",
          "name": "stdout",
          "text": [
            "❌ Ini bukan vector space\n"
          ]
        },
        {
          "output_type": "execute_result",
          "data": {
            "text/plain": [
              "False"
            ]
          },
          "metadata": {},
          "execution_count": 6
        }
      ]
    },
    {
      "cell_type": "markdown",
      "source": [
        "Euclidean Space (Ruang Euclidean)\n",
        "\n",
        "\n",
        "\n",
        "\n",
        "Euclidean space adalah ruang vektor berdimensi-n yang dilengkapi dengan konsep jarak dan sudut.\n",
        "\n",
        "1. Dot Product (Perkalian Titik) menghasilkan scalar\n",
        "2. Norm (Panjang/Modulus)\n",
        "3. Distance (Jarak)\n",
        "4. Sudut antara dua vektor"
      ],
      "metadata": {
        "id": "vCyJDkKIH-Az"
      }
    },
    {
      "cell_type": "code",
      "source": [
        "\n",
        "import numpy as np\n",
        "from math import sqrt, acos, degrees\n",
        "\n",
        "# Diberikan vektor\n",
        "a = np.array([2, -1, 4])\n",
        "b = np.array([-3, 0, 1])\n",
        "\n",
        "# Pertanyaan:\n",
        "# 5.1 Hitung dot product a · b\n",
        "print(a @ b)\n",
        "# 5.2 Hitung panjang dari vektor a\n",
        "print(sqrt(np.sum(i**2 for i in a)))\n",
        "# 5.3 Hitung jarak antara a dan b\n",
        "print(sqrt(np.sum(i**2 for i in a - b)))\n",
        "# 5.4 Hitung sudut antara a dan b (dalam derajat)\n",
        "cos_theta = (a @ b) / (np.linalg.norm(a) * np.linalg.norm(b))\n",
        "theta_rad = acos(cos_theta)\n",
        "theta_deg = degrees(theta_rad)\n",
        "print(theta_deg)"
      ],
      "metadata": {
        "colab": {
          "base_uri": "https://localhost:8080/"
        },
        "id": "JYzoyP-ZIfPv",
        "outputId": "7fc7c665-af85-45df-c191-ebff25e5a8b0"
      },
      "execution_count": null,
      "outputs": [
        {
          "output_type": "stream",
          "name": "stdout",
          "text": [
            "-2\n",
            "4.58257569495584\n",
            "5.916079783099616\n",
            "97.93288986424014\n"
          ]
        },
        {
          "output_type": "stream",
          "name": "stderr",
          "text": [
            "<ipython-input-19-1293192234>:12: DeprecationWarning: Calling np.sum(generator) is deprecated, and in the future will give a different result. Use np.sum(np.fromiter(generator)) or the python sum builtin instead.\n",
            "  print(sqrt(np.sum(i**2 for i in a)))\n",
            "<ipython-input-19-1293192234>:14: DeprecationWarning: Calling np.sum(generator) is deprecated, and in the future will give a different result. Use np.sum(np.fromiter(generator)) or the python sum builtin instead.\n",
            "  print(sqrt(np.sum(i**2 for i in a - b)))\n"
          ]
        }
      ]
    },
    {
      "cell_type": "markdown",
      "source": [
        "Subspace\n",
        "Subspace (ruang bagian) adalah subset dari vector space yang juga merupakan vector space itu sendiri."
      ],
      "metadata": {
        "id": "KEtVVznyO3P7"
      }
    },
    {
      "cell_type": "code",
      "source": [
        "# langkah 1 menentukan subspace\n",
        "# cek apakah 0 vektor memenuhi syarat himpunan\n",
        "\n",
        "v = np.array([1, 2]) # y = 2x\n",
        "v0 = np.array([0, 0]) # y = 2x -> yaa betull\n",
        "\n",
        "# tinggal kita cek bagian dari vector space apa bukan\n",
        "def is_subspace(vecs):\n",
        "\n",
        "    rule = v0[1] == v0[0]**2\n",
        "\n",
        "    if rule:\n",
        "        print(\"nol vektor valid\")\n",
        "        if is_vector_space_check(vecs): print(\"Ini vektor subspaces\")\n",
        "        else: print(\"Ini bukan vektor subspaces\")\n",
        "\n",
        "is_subspace([np.array([2, 4]), np.array([4, 16])])"
      ],
      "metadata": {
        "id": "WujIycTdPE54",
        "colab": {
          "base_uri": "https://localhost:8080/"
        },
        "outputId": "5f14dcc8-c5fb-4351-e9a2-fd33b6baf6df"
      },
      "execution_count": null,
      "outputs": [
        {
          "output_type": "stream",
          "name": "stdout",
          "text": [
            "nol vektor valid\n",
            "❌ Ini bukan vector space\n",
            "Ini bukan vektor subspaces\n"
          ]
        }
      ]
    },
    {
      "cell_type": "markdown",
      "source": [
        "Linear Maps\n",
        "\n",
        "A. Menerima vektor sebagai input\n",
        "\n",
        "B. Mengembalikan vektor sebagai output (di ruang vektor tujuan)\n",
        "\n",
        "C. Dan harus memenuhi 3 properti utama:\n",
        "\n",
        "🔹 1. Memetakan nol vektor ke nol vektor\n",
        "🔹 2. Additivity (penjumlahan)\n",
        "🔹 3. Homogeneity (perkalian skalar)"
      ],
      "metadata": {
        "id": "n3uZbiExsphu"
      }
    },
    {
      "cell_type": "code",
      "source": [
        "# fungsi untuk menentukan linear map\n",
        "import numpy as np\n",
        "v0 = np.array([0,0])\n",
        "u = np.array([1, 2])\n",
        "v_ = np.array([2, 4])\n",
        "\n",
        "def a(v):\n",
        "    return np.array([v[0] + v[1], v[0] - v[1]])\n",
        "def b(v):\n",
        "    return np.array([v[0] + 1, v[1]])\n",
        "def c(v):\n",
        "    return np.array([v[0] ** 2, v[1]])\n",
        "def d(v):\n",
        "    return 5 * v\n",
        "def e(v):\n",
        "    return 0 * v\n",
        "\n",
        "# 1.\n",
        "\n",
        "print(\"1\")\n",
        "print(np.equal(v0, a(v0)))\n",
        "print(np.equal(a(u + v_), a(u) + a(v_)))\n",
        "print(np.equal(a(2 * u), 2 * a(u)))\n",
        "\n",
        "# 2.\n",
        "\n",
        "print(\"2\")\n",
        "print(np.equal(v0, b(v0)))\n",
        "print(np.equal(b(u + v_), b(u) + b(v_)))\n",
        "print(np.equal(b(2 * u), 2 * b(u)))\n",
        "\n",
        "\n",
        "# 3.\n",
        "\n",
        "print(\"3\")\n",
        "print(np.equal(v0, c(v0)))\n",
        "print(np.equal(c(u + v_), c(u) + c(v_)))\n",
        "print(np.equal(c(2 * u), 2 * c(u)))\n",
        "\n",
        "# 4.\n",
        "\n",
        "print(\"4\")\n",
        "print(np.equal(v0, d(v0)))\n",
        "print(np.equal(d(u + v_), d(u) + d(v_)))\n",
        "print(np.equal(d(2 * u), 2 * d(u)))\n",
        "\n",
        "# 5.\n",
        "\n",
        "print(\"5\")\n",
        "print(np.equal(v0, e(v0)))\n",
        "print(np.equal(e(u + v_), e(u) + e(v_)))\n",
        "print(np.equal(e(2 * u), 2 * e(u)))\n",
        "\n",
        "\n",
        "# Exercise\n",
        "\n",
        "v0 = np.array([0,0])\n",
        "u = np.array([1, 2])\n",
        "v_ = np.array([2, 4])\n",
        "\n",
        "def T(v):\n",
        "    return np.array([2 * v[0] + v[1], v[0] - 3 * v[1]])\n",
        "\n",
        "print(np.equal(v0, T(v0)))\n",
        "print(np.equal(T(u + v_), T(u) + T(v_)))\n",
        "print(np.equal(T(2 * u), 2 * T(u)))"
      ],
      "metadata": {
        "colab": {
          "base_uri": "https://localhost:8080/"
        },
        "id": "wZx2GNu3tJoz",
        "outputId": "978bd534-029d-491a-cc75-2b7845563105"
      },
      "execution_count": null,
      "outputs": [
        {
          "output_type": "stream",
          "name": "stdout",
          "text": [
            "1\n",
            "[ True  True]\n",
            "[ True  True]\n",
            "[ True  True]\n",
            "2\n",
            "[False  True]\n",
            "[False  True]\n",
            "[False  True]\n",
            "3\n",
            "[ True  True]\n",
            "[False  True]\n",
            "[False  True]\n",
            "4\n",
            "[ True  True]\n",
            "[ True  True]\n",
            "[ True  True]\n",
            "5\n",
            "[ True  True]\n",
            "[ True  True]\n",
            "[ True  True]\n",
            "[ True  True]\n",
            "[ True  True]\n",
            "[ True  True]\n"
          ]
        }
      ]
    },
    {
      "cell_type": "markdown",
      "source": [
        "Linear operator\n",
        "\n",
        "Linear operator adalah linear maps yang domain dan kodomainnya (input-output) nya di ruang vektor yang sama"
      ],
      "metadata": {
        "id": "wjSBG4d9VoVf"
      }
    },
    {
      "cell_type": "code",
      "source": [
        "# contoh Linear operator\n",
        "\n",
        "def lo(v):\n",
        "    return np.array([v[0] * 2, v[1] * 2])\n",
        "\n",
        "v0 = np.array([0,0])\n",
        "u = np.array([1, 2])\n",
        "v_ = np.array([2, 4])\n",
        "\n",
        "print(np.equal(v0, lo(v0)))\n",
        "print(np.equal(lo(u + v_), lo(u) + lo(v_)))\n",
        "print(np.equal(lo(2 * u), 2 * lo(u)))"
      ],
      "metadata": {
        "colab": {
          "base_uri": "https://localhost:8080/"
        },
        "id": "VfmOVLipV8W7",
        "outputId": "4580cc1b-b867-4d40-e312-6fcb18520baf"
      },
      "execution_count": null,
      "outputs": [
        {
          "output_type": "stream",
          "name": "stdout",
          "text": [
            "[ True  True]\n",
            "[ True  True]\n",
            "[ True  True]\n"
          ]
        }
      ]
    },
    {
      "cell_type": "markdown",
      "source": [
        "Matrics of linear maps\n",
        "\n",
        "Ini adalah representasi matriks yang jika di lakukan dot product dengan domain (input) dari linear maps akan menghasilkan output (kodomain) yang sama dari linear maps itu sendiri.\n",
        "\n",
        "\n",
        "langkah langkah menentukannya adalah dengan memasukan basis kanonik sebagai domain dari linear maps,\n",
        "\n",
        "basis kanonik adalah vektor yang berisi 1 dan 0 dimana jika vektor tersebut digabungkan sebagai kolom2 matriks maka angka satu nya akan membentuk diagonal alias matriks identitas\n",
        "\n",
        "R^n -> e^n\n",
        "artinya jika vector n x 1 maka kanonik nya n × n"
      ],
      "metadata": {
        "id": "piSF7puhb3dt"
      }
    },
    {
      "cell_type": "code",
      "source": [
        "def mlo(v):\n",
        "    return np.array([v[0] + v[1], v[1] + v[2]])\n",
        "\n",
        "def mlo_2(v):\n",
        "    return np.array([[1, 1, 0], [0, 1, 1]]) @ v\n",
        "\n",
        "v3 = np.array([1, 2, 3])\n",
        "print(mlo_2(v3))\n",
        "print(mlo(v3))\n",
        "# masukan basis kanonik\n",
        "\n",
        "kanonik_base = np.array([\n",
        "    [1, 0, 0],\n",
        "    [0, 1, 0],\n",
        "    [0, 0, 1]\n",
        "])\n",
        "\n",
        "def create_matriks_from_lm(lm, input_length):\n",
        "    kanonik_base = np.identity(input_length)\n",
        "    length = len(kanonik_base)\n",
        "    return np.array([lm(kanonik_base[:, i]) for i in range(length)]).T\n",
        "\n",
        "\n",
        "\n",
        "print(mlo(kanonik_base[:, 0])) # ini akan menghasil kan vektor kolom yang akan digunakan untuk menyusun matriks\n",
        "print(mlo(kanonik_base[:, 1]))\n",
        "print(mlo(kanonik_base[:, 2]))\n",
        "create_matriks_from_lm(mlo, len(v3))"
      ],
      "metadata": {
        "colab": {
          "base_uri": "https://localhost:8080/"
        },
        "id": "XHScCj4ncBBC",
        "outputId": "2e6aedad-4c07-4f70-e6a7-eb8ae1732007"
      },
      "execution_count": null,
      "outputs": [
        {
          "output_type": "stream",
          "name": "stdout",
          "text": [
            "[3 5]\n",
            "[3 5]\n",
            "[1 0]\n",
            "[1 1]\n",
            "[0 1]\n"
          ]
        },
        {
          "output_type": "execute_result",
          "data": {
            "text/plain": [
              "array([[1., 1., 0.],\n",
              "       [0., 1., 1.]])"
            ]
          },
          "metadata": {},
          "execution_count": 19
        }
      ]
    },
    {
      "cell_type": "code",
      "source": [
        "np.identity(4)"
      ],
      "metadata": {
        "colab": {
          "base_uri": "https://localhost:8080/"
        },
        "id": "OA7BGZ_glH41",
        "outputId": "5ede1ffc-415d-4be7-d806-1f973f96d7e0"
      },
      "execution_count": null,
      "outputs": [
        {
          "output_type": "execute_result",
          "data": {
            "text/plain": [
              "array([[1., 0., 0., 0.],\n",
              "       [0., 1., 0., 0.],\n",
              "       [0., 0., 1., 0.],\n",
              "       [0., 0., 0., 1.]])"
            ]
          },
          "metadata": {},
          "execution_count": 16
        }
      ]
    },
    {
      "cell_type": "markdown",
      "source": [
        "Row Echelon\n",
        "\n",
        "\n",
        "Langkah pengerjaan\n",
        "\n",
        "tentukan pivot di elemen pertama dari baris 1 selama elemen noon 0, naahh trus baarris bawahnya kita tentukan pivot dikali berapa suppaya hasilnya pivot dibaris itu..., jika pivot di R1 0 maka tukar baris, jika pivot di elemen paling bawah sudah 0 maka geser kekanan, lalu tentukan tangga eselon\n",
        "\n",
        "contoh soal :\n",
        "\n",
        "\n",
        "Nomor 1.\n",
        "[1, 2]\n",
        "[3, 4]\n",
        "\n",
        "R2 = R2 - 3R1 => [3, 4] - 3 * [1, 2] =  [0, -2]\n",
        "\n",
        "Nomor 2.\n",
        "[0, 2, 3]\n",
        "[ 1, 1, 1 ]\n",
        "[2, 4, 6]\n",
        "\n",
        "tukar baris 1 dan 2\n",
        "[1, 1, 1]\n",
        "[0, 2, 3]\n",
        "[2, 4, 6]\n",
        "\n",
        "eliminasi baris 3\n",
        "R3 = R3 - 2R1 => [2, 4, 6] - 2 * [1, 1, 1] = [0, 2, 4]\n",
        "\n",
        "baris 3 kita kurang kan dengan baris 2\n",
        "R3 = R3 - R2 = [0, 0, 1]\n",
        "\n",
        "maka hasilnya\n",
        "[1,1,1]\n",
        "[0, 2,3]\n",
        "[0,0, 1]\n",
        "\n",
        "Nomor 3.\n",
        "[2,4,6]\n",
        "[1,2,3]\n",
        "[0,0,1]\n",
        "\n",
        "R2 = R2 - 1/2R1 => [1,2,3] - 1/2*[2, 4, 6] => [0, 0, 0]\n",
        "\n",
        "kita tukar baris 2 dan 3\n",
        "maka hasilnya\n",
        "\n",
        "[2,4,6]\n",
        "[0,0,1]\n",
        "[0,0,0]"
      ],
      "metadata": {
        "id": "28gsUSajPgxc"
      }
    },
    {
      "cell_type": "code",
      "source": [
        "import numpy as np\n",
        "\n",
        "def row_echelon(matrix):\n",
        "    A = matrix.astype(float)\n",
        "    m, n = A.shape\n",
        "    print(m, n)\n",
        "    row = 0\n",
        "    for col in range(n):\n",
        "        if row >= m:\n",
        "            break\n",
        "        # Cari pivot (baris dengan nilai terbesar di kolom saat ini)\n",
        "        max_row = np.argmax(abs(A[row:, col])) + row\n",
        "        print(np.argmax(abs(A[row:, col])))\n",
        "        if A[max_row, col] == 0:\n",
        "            continue\n",
        "        # Tukar baris\n",
        "        A[[row, max_row]] = A[[max_row, row]]\n",
        "        # Normalisasi pivot\n",
        "        A[row] = A[row] / A[row, col]\n",
        "        # Eliminasi baris bawah\n",
        "        for r in range(row + 1, m):\n",
        "            A[r] = A[r] - A[r, col] * A[row]\n",
        "        row += 1\n",
        "    return A\n",
        "\n",
        "A = np.array([\n",
        "    [0, 1, 2],\n",
        "    [1, 1, 1],\n",
        "    [2, 4, 5],\n",
        "    [1, 2, 3]\n",
        "])\n",
        "\n",
        "row_echelon(A)"
      ],
      "metadata": {
        "colab": {
          "base_uri": "https://localhost:8080/"
        },
        "id": "UWhsPEk5d5kj",
        "outputId": "cff0f4cf-bc0b-4a39-f031-3da91b6be6fd"
      },
      "execution_count": 13,
      "outputs": [
        {
          "output_type": "stream",
          "name": "stdout",
          "text": [
            "4 3\n",
            "2\n",
            "0\n",
            "0\n"
          ]
        },
        {
          "output_type": "execute_result",
          "data": {
            "text/plain": [
              "array([[ 1. ,  2. ,  2.5],\n",
              "       [-0. ,  1. ,  1.5],\n",
              "       [ 0. ,  0. ,  1. ],\n",
              "       [ 0. ,  0. ,  0. ]])"
            ]
          },
          "metadata": {},
          "execution_count": 13
        }
      ]
    },
    {
      "cell_type": "markdown",
      "source": [
        "Span\n",
        "\n",
        "Span dari suatu himpunan vektor adalah seluruh kumpulan vektor yang bisa dibentuk dari kombinasi linear dari vektor-vektor tersebut.\n",
        "\n",
        "cara menentukan nya adalah dengan menentukan skalar * v1 + skalar * v2 = t\n",
        "\n",
        "cari skalar yang memenuhi, jika tidak ada skalar yang memenuhi maka t bukan bagian dari span\n",
        "\n",
        "contoh\n",
        "\n",
        "1. apakah t = [4, 5] ada dalam span [1, 2], [2, 1]\n",
        "\n",
        "\n",
        "\n",
        "c1 + 2c2 = 4\n",
        "\n",
        "2c1 + c2 = 5\n",
        "\n",
        "c1 = 4 - 2c2 (i)\n",
        "\n",
        "\n",
        "2(4 - 2c2) + c2 = 5\n",
        "\n",
        "8 - 4c2 + c2 = 5\n",
        "\n",
        "8 - 3c2 = 5\n",
        "\n",
        "8 = 5 + 3c2\n",
        "\n",
        "8 = 5 + 3(1)\n",
        "\n",
        "c2 = 1\n",
        "\n",
        "\n",
        "subtitusi ke (i)\n",
        "\n",
        "4 - 2(1) = 2\n",
        "\n",
        "c1 = 2\n",
        "\n",
        "\n",
        "jadi t ada dalam span\n",
        "\n",
        "\n",
        "2. apakah t = [2, 3, 1] ada dalam span  [1, 0, -1], [0, 1, 1]\n",
        "\n",
        "\n",
        "\n",
        "c1 + 0 = 2\n",
        "\n",
        "0 + c2 = 3\n",
        "\n",
        "-c1 + c2 = 1\n",
        "\n",
        "-2 + 3 = 1\n",
        "\n",
        "\n",
        "t ada dalam span\n",
        "\n",
        "\n",
        "3. apakah t = [1, 2, 4] ada dalam span [1,2,3], [2,4,6]\n",
        "\n",
        "\n",
        "\n",
        "c1 + 2c2 = 1\n",
        "\n",
        "2c1 + 4c2 = 2\n",
        "\n",
        "3c1 + 6c2 = 4\n",
        "\n",
        "c1 = 1 - 2c2 (i)\n",
        "\n",
        "2(1 - 2c2) + 4c2 = 2\n",
        "\n",
        "2 - 4c2 + 4c2 = 2\n",
        "\n",
        "2 - 8c2 = 2\n",
        "\n",
        "2 - 8(0) = 2\n",
        "\n",
        "\n",
        "c2 = 0 (ii)\n",
        "\n",
        "c1 = 1 - 2(0) = 1\n",
        "\n",
        "3(1) + 0 != 4\n",
        "\n",
        "jadi t tidak berada dalam span"
      ],
      "metadata": {
        "id": "v0-GjrjlkNLS"
      }
    },
    {
      "cell_type": "code",
      "source": [
        "\n",
        "import numpy as np\n",
        "\n",
        "def is_in_span(vectors, target):\n",
        "    import numpy as np\n",
        "    A = np.column_stack(vectors)\n",
        "    print(A)\n",
        "    try:\n",
        "        x = np.linalg.lstsq(A, target, rcond=None)[0]\n",
        "        print(x)\n",
        "        print(A @ x)\n",
        "        return np.allclose(A @ x, target)\n",
        "    except:\n",
        "        return False\n",
        "\n",
        "span = np.array([\n",
        "    [1, 0, -1],\n",
        "    [0, 1, 1]\n",
        "])\n",
        "\n",
        "t = np.array([2, 3, 1])\n",
        "\n",
        "print(span @ t)\n",
        "\n",
        "is_in_span(span, t)"
      ],
      "metadata": {
        "colab": {
          "base_uri": "https://localhost:8080/"
        },
        "id": "SVjRQtKr5VPq",
        "outputId": "77b78b2a-e27c-4a73-bca9-8cd0a4849612"
      },
      "execution_count": null,
      "outputs": [
        {
          "output_type": "stream",
          "name": "stdout",
          "text": [
            "[1 4]\n",
            "[[ 1  0]\n",
            " [ 0  1]\n",
            " [-1  1]]\n",
            "[2. 3.]\n",
            "[2. 3. 1.]\n"
          ]
        },
        {
          "output_type": "execute_result",
          "data": {
            "text/plain": [
              "True"
            ]
          },
          "metadata": {},
          "execution_count": 12
        }
      ]
    },
    {
      "cell_type": "markdown",
      "source": [
        "Null Space\n",
        "\n",
        "jadiii intinya null space tuh menggenerate span (x) untuk yg jika dikalikan dengan baris2 matriks A menjadi vektor 0\n",
        "\n",
        "contoh :\n",
        "\n",
        "A1 = [[1, 2, -1], [2, 4, -2]]\n",
        "\n",
        "x1 + 2x2 - x3 = 0\n",
        "\n",
        "2x1 + 4x2 - 2x3 = 0\n",
        "\n",
        "eliminasi row echelon\n",
        "\n",
        "R2 - 2R1 = [[1, 2, -1], [0, 0, 0]]\n",
        "\n",
        "expresikan variable bebas\n",
        "\n",
        "x1 + 2x2 - x3 = 0 => x1 = -2x2 + x3\n",
        "\n",
        "var bebas: x2, x3\n",
        "\n",
        "x = [-2x2 + x3, x2, x3] = x2 [-2, 1, 0] + x3 [1, 0, 1]\n",
        "\n",
        "null(A1) = span{[-2, 1, 0], [1,0,1]\n",
        "\n",
        "A2 = [[1, -1, 2], [3, -3, 6]\n",
        "\n",
        "eliminasi row echelon\n",
        "\n",
        "R2 - 3R1 = [[1, -1, 2], [0, 0, 0]\n",
        "\n",
        "x1 - x2 + 2x3 = 0\n",
        "\n",
        "x1 = x2 - 2x3\n",
        "\n",
        "expresikan =>\n",
        "\n",
        "[x2 - 2x3, x2, x3] =>\n",
        "\n",
        "null(A2) = span{[1, 1, 0], [-2, 0, 1]}\n",
        "\n",
        "A3 = [[1, 2, 1], [0, 1, 1]]\n",
        "\n",
        "x1 + 2x2 + x3 = 0\n",
        "\n",
        "x2 + x3 = 0\n",
        "\n",
        "x2 = -x3\n",
        "\n",
        "x1 = -2(-x3) - x3  = x3\n",
        "\n",
        "[x3, -x3, x3]\n",
        "\n",
        "[1, -1, 1]"
      ],
      "metadata": {
        "id": "_hEDUFzPMFvO"
      }
    },
    {
      "cell_type": "code",
      "source": [
        "pip install scipy sympy"
      ],
      "metadata": {
        "colab": {
          "base_uri": "https://localhost:8080/"
        },
        "id": "Dd_R1uEHT9XQ",
        "outputId": "24b7782b-7ca0-41e9-820d-9b804638c9b5"
      },
      "execution_count": 26,
      "outputs": [
        {
          "output_type": "stream",
          "name": "stdout",
          "text": [
            "Requirement already satisfied: scipy in /usr/local/lib/python3.11/dist-packages (1.15.3)\n",
            "Requirement already satisfied: sympy in /usr/local/lib/python3.11/dist-packages (1.13.1)\n",
            "Requirement already satisfied: numpy<2.5,>=1.23.5 in /usr/local/lib/python3.11/dist-packages (from scipy) (2.0.2)\n",
            "Requirement already satisfied: mpmath<1.4,>=1.1.0 in /usr/local/lib/python3.11/dist-packages (from sympy) (1.3.0)\n"
          ]
        }
      ]
    },
    {
      "cell_type": "code",
      "source": [
        "\n",
        "import numpy as np\n",
        "from scipy.linalg import null_space\n",
        "\n",
        "A = np.array([\n",
        "    [1,2,1],\n",
        "    [0,1,1]\n",
        "])\n",
        "\n",
        "print(null_space(A))"
      ],
      "metadata": {
        "colab": {
          "base_uri": "https://localhost:8080/"
        },
        "id": "OCytG898MW2O",
        "outputId": "d24052f6-286f-4970-ec65-aaff5d536ecf"
      },
      "execution_count": 44,
      "outputs": [
        {
          "output_type": "stream",
          "name": "stdout",
          "text": [
            "[[ 0.57735027]\n",
            " [-0.57735027]\n",
            " [ 0.57735027]]\n"
          ]
        }
      ]
    },
    {
      "cell_type": "markdown",
      "source": [
        "Range"
      ],
      "metadata": {
        "id": "J3oC-xI9hbo_"
      }
    }
  ]
}