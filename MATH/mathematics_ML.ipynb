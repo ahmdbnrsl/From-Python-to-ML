{
  "nbformat": 4,
  "nbformat_minor": 0,
  "metadata": {
    "colab": {
      "provenance": [],
      "authorship_tag": "ABX9TyPjzNktelBPlByUnCpG7es+",
      "include_colab_link": true
    },
    "kernelspec": {
      "name": "python3",
      "display_name": "Python 3"
    },
    "language_info": {
      "name": "python"
    }
  },
  "cells": [
    {
      "cell_type": "markdown",
      "metadata": {
        "id": "view-in-github",
        "colab_type": "text"
      },
      "source": [
        "<a href=\"https://colab.research.google.com/github/ahmdbnrsl/From-Python-to-ML/blob/main/MATH/mathematics_ML.ipynb\" target=\"_parent\"><img src=\"https://colab.research.google.com/assets/colab-badge.svg\" alt=\"Open In Colab\"/></a>"
      ]
    },
    {
      "cell_type": "code",
      "execution_count": null,
      "metadata": {
        "colab": {
          "base_uri": "https://localhost:8080/"
        },
        "id": "HWLaWKOF8SX-",
        "outputId": "f3731e69-97d5-4d0a-edda-82c897749fb6"
      },
      "outputs": [
        {
          "output_type": "stream",
          "name": "stdout",
          "text": [
            "Requirement already satisfied: numpy in /usr/local/lib/python3.11/dist-packages (2.0.2)\n"
          ]
        }
      ],
      "source": [
        "pip install numpy"
      ]
    },
    {
      "cell_type": "markdown",
      "source": [
        "Vector space (ruang vektor) adalah sebuah himpunan (kumpulan objek) yang:\n",
        "\n",
        "1. Anggotanya disebut vektor\n",
        "\n",
        "\n",
        "2. Memenuhi dua operasi utama:\n",
        "\n",
        "Penjumlahan vektor: menambahkan dua vektor menghasilkan vektor baru.\n",
        "\n",
        "Perkalian skalar: mengalikan vektor dengan bilangan (skalar) menghasilkan vektor baru juga.\n",
        "\n",
        "\n",
        "\n",
        "3. Tunduk pada 8 aturan (aksioma) tertentu (kita bahas nanti).\n",
        "\n",
        "\n",
        "\n",
        "Biasanya ruang vektor ini didefinisikan di atas field (seperti bilangan real ℝ atau bilangan kompleks ℂ), artinya semua skalarnya berasal dari field itu.\n",
        "\n",
        "Kalau ada dua vektor u = (u₁, u₂) dan v = (v₁, v₂), maka:\n",
        "\n",
        "Penjumlahan vektor:\n",
        "u + v = (u₁ + v₁, u₂ + v₂)\n",
        "\n",
        "Perkalian skalar dengan bilangan k:\n",
        "k * u = (k * u₁, k * u₂)\n",
        "\n",
        "8 Aksioma Ruang Vektor\n",
        "\n",
        "1. Asosiatif penjumlahan: (u + v) + w = u + (v + w)\n",
        "\n",
        "\n",
        "2. Komutatif penjumlahan: u + v = v + u\n",
        "\n",
        "\n",
        "3. Elemen nol: Ada vektor 0, sehingga u + 0 = u\n",
        "\n",
        "\n",
        "4. Elemen invers aditif: Untuk setiap u, ada -u, sehingga u + (-u) = 0\n",
        "\n",
        "\n",
        "5. Asosiatif perkalian skalar: a(bu) = (ab)u\n",
        "\n",
        "\n",
        "6. Identitas skalar: 1 * u = u\n",
        "\n",
        "\n",
        "7. Distributif terhadap penjumlahan vektor: a(u + v) = au + av\n",
        "\n",
        "\n",
        "8. Distributif terhadap penjumlahan skalar: (a + b)u = au + bu\n",
        "\n",
        "\n",
        "\n",
        "Kalau semua ini terpenuhi, maka himpunan itu adalah vector space."
      ],
      "metadata": {
        "id": "NQS21qXC8xGf"
      }
    },
    {
      "cell_type": "code",
      "source": [
        "import numpy as np\n",
        "\n",
        "def is_vector_space_check(vecs):\n",
        "    # Cek penjumlahan\n",
        "    u = vecs[0]\n",
        "    v = vecs[1]\n",
        "    sum_vec = u + v\n",
        "    print(f\"u + v = {sum_vec}\")\n",
        "\n",
        "    # Cek perkalian skalar\n",
        "    k = 3\n",
        "    scaled_vec = k * u\n",
        "    print(f\"{k} * u = {scaled_vec}\")\n",
        "\n",
        "vecs = [np.array([1, -1]), np.array([-2, 2])]  # x + y = 0\n",
        "vecs_1 = [np.array([2, 1]), np.array([4, 2])]  # x = 2y\n",
        "vecs_2 = [np.array([2, 4]), np.array([4, 6])]  # x + 2 = y\n",
        "\n",
        "is_vector_space_check(vecs)\n",
        "is_vector_space_check(vecs_2)"
      ],
      "metadata": {
        "colab": {
          "base_uri": "https://localhost:8080/"
        },
        "id": "62hDGWlT9WZ_",
        "outputId": "a662daf8-865f-49aa-cfb9-36a85f425eba"
      },
      "execution_count": null,
      "outputs": [
        {
          "output_type": "stream",
          "name": "stdout",
          "text": [
            "u + v = [-1  1]\n",
            "3 * u = [ 3 -3]\n",
            "u + v = [ 6 10]\n",
            "3 * u = [ 6 12]\n"
          ]
        }
      ]
    },
    {
      "cell_type": "code",
      "source": [
        "def is_vector_space_check(vecs):\n",
        "    u = vecs[0]\n",
        "    v = vecs[1]\n",
        "\n",
        "    sum_vec = u + v\n",
        "    scaled_vec = 3 * u\n",
        "\n",
        "    def is_in_V(vec):\n",
        "        return np.sum(vec) == 0\n",
        "\n",
        "    if is_in_V(sum_vec) and is_in_V(scaled_vec):\n",
        "        print(\"✅ Ini adalah vector space\")\n",
        "    else:\n",
        "        print(\"❌ Ini bukan vector space\")\n",
        "\n",
        "is_vector_space_check([np.array([5, 2, 1]), np.array([10, 4, 2])])"
      ],
      "metadata": {
        "colab": {
          "base_uri": "https://localhost:8080/"
        },
        "id": "qQmqQh9LCR6D",
        "outputId": "5fc4013e-c53a-4767-be06-f0cb0f489f03"
      },
      "execution_count": null,
      "outputs": [
        {
          "output_type": "stream",
          "name": "stdout",
          "text": [
            "❌ Ini bukan vector space\n"
          ]
        }
      ]
    },
    {
      "cell_type": "markdown",
      "source": [
        "Euclidean Space (Ruang Euclidean)\n",
        "\n",
        "\n",
        "\n",
        "\n",
        "Euclidean space adalah ruang vektor berdimensi-n yang dilengkapi dengan konsep jarak dan sudut.\n",
        "\n",
        "1. Dot Product (Perkalian Titik) menghasilkan scalar\n",
        "2. Norm (Panjang/Modulus)\n",
        "3. Distance (Jarak)\n",
        "4. Sudut antara dua vektor"
      ],
      "metadata": {
        "id": "vCyJDkKIH-Az"
      }
    },
    {
      "cell_type": "code",
      "source": [
        "\n",
        "import numpy as np\n",
        "from math import sqrt, acos, degrees\n",
        "\n",
        "# Diberikan vektor\n",
        "a = np.array([2, -1, 4])\n",
        "b = np.array([-3, 0, 1])\n",
        "\n",
        "# Pertanyaan:\n",
        "# 5.1 Hitung dot product a · b\n",
        "print(a @ b)\n",
        "# 5.2 Hitung panjang dari vektor a\n",
        "print(sqrt(np.sum(i**2 for i in a)))\n",
        "# 5.3 Hitung jarak antara a dan b\n",
        "print(sqrt(np.sum(i**2 for i in a - b)))\n",
        "# 5.4 Hitung sudut antara a dan b (dalam derajat)\n",
        "cos_theta = (a @ b) / (np.linalg.norm(a) * np.linalg.norm(b))\n",
        "theta_rad = acos(cos_theta)\n",
        "theta_deg = degrees(theta_rad)\n",
        "print(theta_deg)"
      ],
      "metadata": {
        "colab": {
          "base_uri": "https://localhost:8080/"
        },
        "id": "JYzoyP-ZIfPv",
        "outputId": "7fc7c665-af85-45df-c191-ebff25e5a8b0"
      },
      "execution_count": null,
      "outputs": [
        {
          "output_type": "stream",
          "name": "stdout",
          "text": [
            "-2\n",
            "4.58257569495584\n",
            "5.916079783099616\n",
            "97.93288986424014\n"
          ]
        },
        {
          "output_type": "stream",
          "name": "stderr",
          "text": [
            "<ipython-input-19-1293192234>:12: DeprecationWarning: Calling np.sum(generator) is deprecated, and in the future will give a different result. Use np.sum(np.fromiter(generator)) or the python sum builtin instead.\n",
            "  print(sqrt(np.sum(i**2 for i in a)))\n",
            "<ipython-input-19-1293192234>:14: DeprecationWarning: Calling np.sum(generator) is deprecated, and in the future will give a different result. Use np.sum(np.fromiter(generator)) or the python sum builtin instead.\n",
            "  print(sqrt(np.sum(i**2 for i in a - b)))\n"
          ]
        }
      ]
    },
    {
      "cell_type": "markdown",
      "source": [
        "Subspace\n",
        "Subspace (ruang bagian) adalah subset dari vector space yang juga merupakan vector space itu sendiri."
      ],
      "metadata": {
        "id": "KEtVVznyO3P7"
      }
    },
    {
      "cell_type": "code",
      "source": [
        "# langkah 1 menentukan subspace\n",
        "# cek apakah 0 vektor memenuhi syarat himpunan\n",
        "\n",
        "v = np.array([1, 2]) # y = 2x\n",
        "v0 = np.array([0, 0]) # y = 2x -> yaa betull\n",
        "\n",
        "# tinggal kita cek bagian dari vector space apa bukan"
      ],
      "metadata": {
        "id": "WujIycTdPE54"
      },
      "execution_count": 24,
      "outputs": []
    }
  ]
}